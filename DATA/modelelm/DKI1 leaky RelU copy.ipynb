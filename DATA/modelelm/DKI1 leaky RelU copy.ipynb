{
 "cells": [
  {
   "cell_type": "markdown",
   "metadata": {},
   "source": [
    "# Fungsi aktivasi leaky ReLU"
   ]
  },
  {
   "cell_type": "code",
   "execution_count": 6,
   "metadata": {},
   "outputs": [],
   "source": [
    "import numpy as np\n",
    "\n",
    "def leaky_relu(x, alpha=0.01):\n",
    "    return np.where(x >= 0, x, alpha * x)\n",
    "\n",
    "def elm_fit(X, target, h, W=None, lambda_val=0.01):\n",
    "    if W is None:\n",
    "        W = np.random.uniform(-.6, .6, (h, len(X[0])))\n",
    "    Hinit = X @ W.T\n",
    "    H = leaky_relu(Hinit)\n",
    "    Ht = H.T\n",
    "    \n",
    "    # Menambahkan regularisasi ridge\n",
    "    I = np.identity(h)\n",
    "    Hp = np.linalg.inv(Ht @ H + lambda_val * I) @ Ht\n",
    "    \n",
    "    beta = Hp @ target\n",
    "    y = H @ beta\n",
    "    mape = sum(abs(y - target) / target) * 100 / len(target)\n",
    "\n",
    "    return W, beta, mape\n",
    "\n",
    "\n",
    "def elm_predict(X, W, b, round_output=False):\n",
    "    Hinit = X @ W.T\n",
    "    H = leaky_relu(Hinit)\n",
    "    y = H @ b\n",
    "\n",
    "    if round_output:\n",
    "        y = [int(round(x)) for x in y]\n",
    "\n",
    "    return y"
   ]
  },
  {
   "cell_type": "markdown",
   "metadata": {},
   "source": [
    "### Memuat Dataset ISPU"
   ]
  },
  {
   "cell_type": "code",
   "execution_count": 7,
   "metadata": {},
   "outputs": [
    {
     "name": "stdout",
     "output_type": "stream",
     "text": [
      "<class 'pandas.core.frame.DataFrame'>\n",
      "RangeIndex: 2191 entries, 0 to 2190\n",
      "Data columns (total 10 columns):\n",
      " #   Column    Non-Null Count  Dtype         \n",
      "---  ------    --------------  -----         \n",
      " 0   Tanggal   2191 non-null   datetime64[ns]\n",
      " 1   Wilayah   2191 non-null   object        \n",
      " 2   PM10      2191 non-null   float64       \n",
      " 3   SO2       2191 non-null   float64       \n",
      " 4   CO        2191 non-null   float64       \n",
      " 5   O3        2191 non-null   float64       \n",
      " 6   NO2       2191 non-null   float64       \n",
      " 7   Max       2191 non-null   float64       \n",
      " 8   Critical  2102 non-null   object        \n",
      " 9   Kategori  2191 non-null   float64       \n",
      "dtypes: datetime64[ns](1), float64(7), object(2)\n",
      "memory usage: 171.3+ KB\n"
     ]
    }
   ],
   "source": [
    "import pandas as pd\n",
    "from sklearn.preprocessing import minmax_scale\n",
    "\n",
    "# Memuat data dari file CSV menggunakan Pandas\n",
    "DKI1 = pd.read_excel(\"D:\\Data\\Kuliah\\TA\\Projek-TA\\DATA\\Classification\\DATA ISPU - classification.xlsx\", sheet_name=\"DKI1\")\n",
    "DKI1['Kategori'] = DKI1['Kategori'].astype(float)\n",
    "DKI1.info()"
   ]
  },
  {
   "cell_type": "markdown",
   "metadata": {},
   "source": [
    "### Memisahkan Fitur (X) dan Target (Y) & Memisahkan Data Menjadi Data Train Dan Data Testing"
   ]
  },
  {
   "cell_type": "code",
   "execution_count": 8,
   "metadata": {},
   "outputs": [
    {
     "name": "stdout",
     "output_type": "stream",
     "text": [
      "Jumlah data pada Train: 1752\n",
      "Jumlah data pada Test: 439\n"
     ]
    }
   ],
   "source": [
    "from sklearn.model_selection import train_test_split\n",
    "from sklearn.metrics import accuracy_score\n",
    "\n",
    "n_rows = 2192\n",
    "\n",
    "# Mengambil kolom yang diperlukan\n",
    "data = DKI1[:n_rows][['Tanggal', 'PM10', 'SO2', 'CO', 'O3', 'NO2', 'Kategori']]\n",
    "#data = DKI1[['Tanggal', 'PM10', 'SO2', 'CO', 'O3', 'NO2', 'Kategori']]\n",
    "# Melakukan normalisasi Min-Max pada fitur\n",
    "data[['PM10', 'SO2', 'CO', 'O3', 'NO2']] = minmax_scale(data[['PM10', 'SO2', 'CO', 'O3', 'NO2']])\n",
    "\n",
    "# Memisahkan fitur (X) dan target (Y)\n",
    "X = data[['PM10', 'SO2', 'CO', 'O3', 'NO2']].values\n",
    "Y = data['Kategori'].values\n",
    "\n",
    "# Memisahkan data menjadi training set dan testing set\n",
    "X_train, X_test, y_train, y_test = train_test_split(X, Y, test_size=.2)\n",
    "\n",
    "#Menampilkan jumlah data Train dan Test\n",
    "print(\"Jumlah data pada Train:\", X_train.shape[0])\n",
    "print(\"Jumlah data pada Test:\", X_test.shape[0])\n"
   ]
  },
  {
   "cell_type": "code",
   "execution_count": 9,
   "metadata": {},
   "outputs": [
    {
     "data": {
      "text/plain": [
       "\"\\n# Mengonversi X_train dan y_train menjadi DataFrame\\nX_train_df = pd.DataFrame(X_train, columns=X.columns)\\ny_train_df = pd.DataFrame(y_train, columns=['Kategori'])\\n\\n# Mengambil tanggal yang sesuai dengan indeks X_train\\ny_train_dates = data.loc[X_train_df.index, 'Tanggal']\\n\\n# Menggabungkan X_train, y_train, dan kolom 'Tanggal' dalam DataFrame baru\\ntrain_data_with_dates = pd.concat([X_train_df, pd.DataFrame({'Tanggal': y_train_dates}), y_train_df], axis=1)\\n\\n# Menampilkan y_train beserta tanggalnya\\nprint(train_data_with_dates)\\n\""
      ]
     },
     "execution_count": 9,
     "metadata": {},
     "output_type": "execute_result"
    }
   ],
   "source": [
    "'''\n",
    "# Mengonversi X_train dan y_train menjadi DataFrame\n",
    "X_train_df = pd.DataFrame(X_train, columns=X.columns)\n",
    "y_train_df = pd.DataFrame(y_train, columns=['Kategori'])\n",
    "\n",
    "# Mengambil tanggal yang sesuai dengan indeks X_train\n",
    "y_train_dates = data.loc[X_train_df.index, 'Tanggal']\n",
    "\n",
    "# Menggabungkan X_train, y_train, dan kolom 'Tanggal' dalam DataFrame baru\n",
    "train_data_with_dates = pd.concat([X_train_df, pd.DataFrame({'Tanggal': y_train_dates}), y_train_df], axis=1)\n",
    "\n",
    "# Menampilkan y_train beserta tanggalnya\n",
    "print(train_data_with_dates)\n",
    "'''\n"
   ]
  },
  {
   "cell_type": "markdown",
   "metadata": {},
   "source": [
    "### Menampilkan Hasil Prediksi Klasifikasi Data Test"
   ]
  },
  {
   "cell_type": "code",
   "execution_count": 10,
   "metadata": {},
   "outputs": [
    {
     "name": "stdout",
     "output_type": "stream",
     "text": [
      "       Tanggal  Kategori  Hasil Klasifikasi ELM\n",
      "0   2021-10-19       1.0                      2\n",
      "1   2021-10-20       2.0                      2\n",
      "2   2021-10-21       1.0                      1\n",
      "3   2021-10-22       1.0                      1\n",
      "4   2021-10-23       1.0                      1\n",
      "..         ...       ...                    ...\n",
      "434 2022-12-27       1.0                      2\n",
      "435 2022-12-28       2.0                      2\n",
      "436 2022-12-29       2.0                      2\n",
      "437 2022-12-30       1.0                      1\n",
      "438 2022-12-31       1.0                      1\n",
      "\n",
      "[439 rows x 3 columns]\n"
     ]
    }
   ],
   "source": [
    "# Melakukan pelatihan model ELM\n",
    "W_test, b_test, mape_test = elm_fit(X_train, y_train, 15)\n",
    "\n",
    "# Menggunakan model ELM untuk melakukan prediksi\n",
    "predict_test = elm_predict(X_test, W_test, b_test, round_output=True)\n",
    "# Membuat DataFrame untuk hasil prediksi\n",
    "result_df = pd.DataFrame({'Tanggal': data['Tanggal'].iloc[X_train.shape[0]:].reset_index(drop=True),\n",
    "                          'Kategori': y_test,\n",
    "                          'Hasil Klasifikasi ELM': predict_test})\n",
    "\n",
    "# Menampilkan tabel hasil prediksi\n",
    "print(result_df)\n"
   ]
  },
  {
   "cell_type": "code",
   "execution_count": 11,
   "metadata": {},
   "outputs": [
    {
     "data": {
      "image/png": "[encoded data removed]",
      "text/plain": [
       "<Figure size 1800x800 with 1 Axes>"
      ]
     },
     "metadata": {},
     "output_type": "display_data"
    }
   ],
   "source": [
    "from sklearn.metrics import confusion_matrix\n",
    "import matplotlib.pyplot as plt\n",
    "import seaborn as sns\n",
    "\n",
    "\n",
    "# Menghitung confusion matrix\n",
    "cm = confusion_matrix(y_test, predict_test)\n",
    "\n",
    "# Membuat plot confusion matrix\n",
    "plt.figure(figsize=(18, 8))\n",
    "sns.heatmap(cm, annot=True, fmt='d', cmap='Blues', cbar=False)\n",
    "plt.title(\"Confusion Matrix\\nKlasifikasi Dataset ISPU Menggunakan Extreme Learning Machine\")\n",
    "plt.xlabel(\"Predicted\")\n",
    "plt.ylabel(\"Actual\")\n",
    "plt.show()"
   ]
  },
  {
   "cell_type": "markdown",
   "metadata": {},
   "source": [
    "### Menghitung Sensitivity,Specificity,G-mean,dan Accuracy"
   ]
  },
  {
   "cell_type": "code",
   "execution_count": 12,
   "metadata": {},
   "outputs": [
    {
     "name": "stdout",
     "output_type": "stream",
     "text": [
      "Sensitivity: 0.930\n",
      "Specificity: 0.727\n",
      "G-mean: 0.822\n",
      "Accuracy: 0.825\n",
      "[[-0.03477013 -0.00312403 -0.36308411 -0.17515103  0.433703  ]\n",
      " [-0.57641528  0.03351713  0.29334387  0.4165234  -0.07831102]\n",
      " [-0.0420202  -0.56262499  0.09298801  0.33605523 -0.54690298]\n",
      " [-0.24871049 -0.27565054  0.52669859  0.3843466   0.33279723]\n",
      " [-0.25210638  0.21758802  0.07823667 -0.17911966  0.35182658]\n",
      " [-0.57324982 -0.34059807 -0.38195656 -0.25419038 -0.57858384]\n",
      " [ 0.17981253 -0.13749437  0.2703478   0.53533225 -0.35194159]\n",
      " [-0.47499057 -0.49170166 -0.28351582 -0.45505184  0.30037979]\n",
      " [-0.57196772 -0.25667815  0.47947077 -0.34277584 -0.15530333]\n",
      " [ 0.42825234 -0.35440944 -0.56740449  0.24808497  0.14749314]\n",
      " [ 0.03950616 -0.0964223   0.20109939 -0.4704395  -0.3989601 ]\n",
      " [ 0.58952943  0.13997131  0.04673969 -0.01697295 -0.18110768]\n",
      " [-0.5448595  -0.12727401  0.01940202  0.5965217   0.32970792]\n",
      " [-0.154076   -0.03419952  0.5813031  -0.57418323  0.2148851 ]\n",
      " [ 0.29978756 -0.18345505 -0.15144806 -0.16647245  0.1258208 ]]\n",
      "[ 0.22992646  3.45107146  3.23988778  2.49611735  1.79128113 -2.1733339\n",
      " -2.27035465 -1.509072   -0.30270367  2.0999055  -0.51998771  5.61272587\n",
      "  5.62316327 -1.19663757 -2.35456823]\n"
     ]
    }
   ],
   "source": [
    "# Menghitung True Positive (TP), True Negative (TN), False Positive (FP), False Negative (FN)\n",
    "TP = cm[1, 1]\n",
    "TN = cm[0, 0]\n",
    "FP = cm[0, 1]\n",
    "FN = cm[1, 0]\n",
    "\n",
    "# Menghitung Sensitivity (True Positive Rate, Recall)\n",
    "sensitivity = TP / (TP + FN)\n",
    "\n",
    "# Menghitung Specificity\n",
    "if TN + FP == 0:\n",
    "    specificity = 0.0\n",
    "else:\n",
    "    specificity = TN / (TN + FP)\n",
    "\n",
    "# Menghitung G-mean\n",
    "if sensitivity == 0.0 or specificity == 0.0:\n",
    "    g_mean = 0.0\n",
    "else:\n",
    "    g_mean = np.sqrt(sensitivity * specificity)\n",
    "\n",
    "# Menghitung akurasi\n",
    "accuracy = accuracy_score(predict_test, y_test)\n",
    "\n",
    "print(\"Sensitivity: %.3f\" % sensitivity)\n",
    "print(\"Specificity: %.3f\" % specificity)\n",
    "print(\"G-mean: %.3f\" % g_mean)\n",
    "print('Accuracy: %.3f' % accuracy)\n",
    "print(W_test)\n",
    "print(b_test)"
   ]
  }
 ],
 "metadata": {
  "kernelspec": {
   "display_name": "Python 3",
   "language": "python",
   "name": "python3"
  },
  "language_info": {
   "codemirror_mode": {
    "name": "ipython",
    "version": 3
   },
   "file_extension": ".py",
   "mimetype": "text/x-python",
   "name": "python",
   "nbconvert_exporter": "python",
   "pygments_lexer": "ipython3",
   "version": "3.11.0"
  },
  "orig_nbformat": 4
 },
 "nbformat": 4,
 "nbformat_minor": 2
}
