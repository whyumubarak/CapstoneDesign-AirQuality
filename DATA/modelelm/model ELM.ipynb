{
 "cells": [
  {
   "cell_type": "code",
   "execution_count": 3,
   "metadata": {},
   "outputs": [
    {
     "name": "stdout",
     "output_type": "stream",
     "text": [
      "<class 'pandas.core.frame.DataFrame'>\n",
      "RangeIndex: 2191 entries, 0 to 2190\n",
      "Data columns (total 10 columns):\n",
      " #   Column    Non-Null Count  Dtype         \n",
      "---  ------    --------------  -----         \n",
      " 0   Tanggal   2191 non-null   datetime64[ns]\n",
      " 1   Wilayah   2191 non-null   object        \n",
      " 2   PM10      2191 non-null   float64       \n",
      " 3   SO2       2191 non-null   float64       \n",
      " 4   CO        2191 non-null   float64       \n",
      " 5   O3        2191 non-null   float64       \n",
      " 6   NO2       2191 non-null   float64       \n",
      " 7   Max       2191 non-null   float64       \n",
      " 8   Critical  2102 non-null   object        \n",
      " 9   Kategori  2191 non-null   float64       \n",
      "dtypes: datetime64[ns](1), float64(7), object(2)\n",
      "memory usage: 171.3+ KB\n"
     ]
    }
   ],
   "source": [
    "import numpy as np\n",
    "\n",
    "def elm_fit(X, target, h, W=None, lambda_val=0.1):\n",
    "    if W is None:\n",
    "        W = np.random.uniform(-.6, .6, (h, len(X[0])))\n",
    "    Hinit = X @ W.T\n",
    "    #fungsi aktivasi Sigmoid\n",
    "    H = 1 / (1 + np.exp(-Hinit))\n",
    "    Ht = H.T\n",
    "    \n",
    "    #regularisasi ridge\n",
    "    I = np.identity(h)\n",
    "    Hp = np.linalg.inv(Ht @ H + lambda_val * I) @ Ht\n",
    "    \n",
    "    beta = Hp @ target\n",
    "    y = H @ beta\n",
    "    mape = sum(abs(y - target) / target) * 100 / len(target)\n",
    "\n",
    "    return W, beta, mape\n",
    "\n",
    "def elm_predict(X, W, b, round_output=False):\n",
    "    Hinit = X @ W.T\n",
    "    #fungsi aktivasi Sigmoid\n",
    "    H = 1 / (1 + np.exp(-Hinit))\n",
    "    y = H @ b\n",
    "\n",
    "    if round_output:\n",
    "        y = [int(round(x)) for x in y]\n",
    "\n",
    "    return y\n",
    "import pandas as pd\n",
    "from sklearn.preprocessing import minmax_scale\n",
    "\n",
    "# Memuat data dari file CSV menggunakan Pandas\n",
    "DKI1 = pd.read_excel(\"D:\\Data\\Kuliah\\TA\\Projek-TA\\DATA\\Classification\\DATA ISPU - classification.xlsx\", sheet_name=\"DKI1\")\n",
    "DKI1['Kategori'] = DKI1['Kategori'].astype(float)\n",
    "DKI1.info()\n",
    "from sklearn.model_selection import train_test_split\n",
    "from sklearn.metrics import accuracy_score\n",
    "\n",
    "n_rows = 2192\n",
    "\n",
    "# Mengambil kolom yang diperlukan\n",
    "data = DKI1[:n_rows][['Tanggal', 'PM10', 'SO2', 'CO', 'O3', 'NO2', 'Kategori']]\n",
    "# Melakukan normalisasi Min-Max pada fitur\n",
    "\n",
    "\n",
    "# Memisahkan fitur (X) dan target (Y)\n",
    "X = data[['PM10', 'SO2', 'CO', 'O3', 'NO2']].values\n",
    "Y = data['Kategori'].values\n",
    "\n",
    "# Memisahkan data menjadi training set dan testing set\n",
    "X_train, X_test, y_train, y_test = train_test_split(X, Y, test_size=.2)\n",
    "\n",
    "np.random.seed(0)\n",
    "\n",
    "# Melakukan pelatihan model ELM\n",
    "W_test, b_test, mape_test = elm_fit(X_train, y_train, 10)\n",
    "\n",
    "# Menggunakan model ELM untuk melakukan prediksi\n",
    "predict_test = elm_predict(X_test, W_test, b_test, round_output=True)\n"
   ]
  },
  {
   "attachments": {},
   "cell_type": "markdown",
   "metadata": {},
   "source": [
    "### Menampilkan Hasil Prediksi Klasifikasi Data Test"
   ]
  },
  {
   "cell_type": "code",
   "execution_count": 4,
   "metadata": {},
   "outputs": [
    {
     "name": "stdout",
     "output_type": "stream",
     "text": [
      "       Tanggal  Kategori  Hasil Klasifikasi ELM\n",
      "0   2021-10-19       2.0                      2\n",
      "1   2021-10-20       2.0                      2\n",
      "2   2021-10-21       2.0                      2\n",
      "3   2021-10-22       2.0                      2\n",
      "4   2021-10-23       1.0                      2\n",
      "..         ...       ...                    ...\n",
      "434 2022-12-27       2.0                      2\n",
      "435 2022-12-28       2.0                      2\n",
      "436 2022-12-29       1.0                      2\n",
      "437 2022-12-30       2.0                      2\n",
      "438 2022-12-31       3.0                      2\n",
      "\n",
      "[439 rows x 3 columns]\n"
     ]
    }
   ],
   "source": [
    "# Membuat DataFrame untuk hasil prediksi\n",
    "result_df = pd.DataFrame({'Tanggal': data['Tanggal'].iloc[X_train.shape[0]:].reset_index(drop=True),\n",
    "                          'Kategori': y_test,\n",
    "                          'Hasil Klasifikasi ELM': predict_test})\n",
    "\n",
    "# Menampilkan tabel hasil prediksi\n",
    "print(result_df)\n"
   ]
  }
 ],
 "metadata": {
  "kernelspec": {
   "display_name": "Python 3",
   "language": "python",
   "name": "python3"
  },
  "language_info": {
   "codemirror_mode": {
    "name": "ipython",
    "version": 3
   },
   "file_extension": ".py",
   "mimetype": "text/x-python",
   "name": "python",
   "nbconvert_exporter": "python",
   "pygments_lexer": "ipython3",
   "version": "3.11.0"
  },
  "orig_nbformat": 4
 },
 "nbformat": 4,
 "nbformat_minor": 2
}
