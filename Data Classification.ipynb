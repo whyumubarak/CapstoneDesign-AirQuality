{
 "cells": [
  {
   "cell_type": "code",
   "execution_count": 1,
   "metadata": {},
   "outputs": [],
   "source": [
    "import numpy as np\n",
    "\n",
    "def elm_fit(X, target, h, W=None):\n",
    "    if W is None:\n",
    "        W = np.random.uniform(-.5, .5, (h, len(X[0])))\n",
    "    Hinit = X @ W.T\n",
    "    H = 1 / (1 + np.exp(-Hinit))\n",
    "    Ht = H.T\n",
    "    Hp = np.linalg.inv(Ht @ H) @ Ht\n",
    "    beta = Hp @ target\n",
    "    y = H @ beta\n",
    "    mape = sum(abs(y - target) / target) * 100 / len(target)\n",
    "\n",
    "    return W, beta, mape"
   ]
  },
  {
   "cell_type": "code",
   "execution_count": 2,
   "metadata": {},
   "outputs": [],
   "source": [
    "def elm_predict(X, W, b, round_output=False):\n",
    "    Hinit = X @ W.T\n",
    "    H = 1 / (1 + np.exp(-Hinit))\n",
    "    y = H @ b\n",
    "\n",
    "    if round_output:\n",
    "        y = [int(round(x)) for x in y]\n",
    "\n",
    "    return y"
   ]
  },
  {
   "attachments": {},
   "cell_type": "markdown",
   "metadata": {},
   "source": [
    "### Memuat Dataset ISPU"
   ]
  },
  {
   "cell_type": "code",
   "execution_count": 3,
   "metadata": {},
   "outputs": [
    {
     "name": "stdout",
     "output_type": "stream",
     "text": [
      "<class 'pandas.core.frame.DataFrame'>\n",
      "RangeIndex: 2191 entries, 0 to 2190\n",
      "Data columns (total 10 columns):\n",
      " #   Column    Non-Null Count  Dtype         \n",
      "---  ------    --------------  -----         \n",
      " 0   Tanggal   2191 non-null   datetime64[ns]\n",
      " 1   Wilayah   2191 non-null   object        \n",
      " 2   PM10      2191 non-null   float64       \n",
      " 3   SO2       2191 non-null   float64       \n",
      " 4   CO        2191 non-null   float64       \n",
      " 5   O3        2191 non-null   float64       \n",
      " 6   NO2       2191 non-null   float64       \n",
      " 7   Max       2191 non-null   float64       \n",
      " 8   Critical  2102 non-null   object        \n",
      " 9   Kategori  2191 non-null   float64       \n",
      "dtypes: datetime64[ns](1), float64(7), object(2)\n",
      "memory usage: 171.3+ KB\n"
     ]
    }
   ],
   "source": [
    "import pandas as pd\n",
    "from sklearn.preprocessing import minmax_scale\n",
    "\n",
    "# Memuat data dari file CSV menggunakan Pandas\n",
    "DKI1 = pd.read_excel(\"D:\\Data\\Kuliah\\TA\\Projek-TA\\DATA\\Classification\\DATA ISPU - classification.xlsx\", sheet_name=\"DKI1\")\n",
    "DKI1['Kategori'] = DKI1['Kategori'].astype(float)\n",
    "DKI1.info()"
   ]
  },
  {
   "attachments": {},
   "cell_type": "markdown",
   "metadata": {},
   "source": [
    "## Memisahkan Fitur (X) dan Target (Y) & Memisahkan Data Menjadi Data Train Dan Data Testing"
   ]
  },
  {
   "cell_type": "code",
   "execution_count": 4,
   "metadata": {},
   "outputs": [
    {
     "name": "stdout",
     "output_type": "stream",
     "text": [
      "Jumlah data pada Train: 7\n",
      "Jumlah data pada Test: 3\n"
     ]
    }
   ],
   "source": [
    "from sklearn.model_selection import train_test_split\n",
    "from sklearn.metrics import accuracy_score\n",
    "\n",
    "n_rows = 10\n",
    "\n",
    "# Mengambil kolom yang diperlukan\n",
    "data = DKI1[:n_rows][['Tanggal', 'PM10', 'SO2', 'CO', 'O3', 'NO2', 'Kategori']]\n",
    "#data = DKI1[['Tanggal', 'PM10', 'SO2', 'CO', 'O3', 'NO2', 'Kategori']]\n",
    "# Melakukan normalisasi Min-Max pada fitur\n",
    "data[['PM10', 'SO2', 'CO', 'O3', 'NO2']] = minmax_scale(data[['PM10', 'SO2', 'CO', 'O3', 'NO2']])\n",
    "\n",
    "# Memisahkan fitur (X) dan target (Y)\n",
    "X = data[['PM10', 'SO2', 'CO', 'O3', 'NO2']].values\n",
    "Y = data['Kategori'].values\n",
    "\n",
    "# Memisahkan data menjadi training set dan testing set\n",
    "X_train, X_test, y_train, y_test = train_test_split(X, Y, test_size=.3)\n",
    "\n",
    "#Menampilkan jumlah data Train dan Test\n",
    "print(\"Jumlah data pada Train:\", X_train.shape[0])\n",
    "print(\"Jumlah data pada Test:\", X_test.shape[0])\n"
   ]
  },
  {
   "attachments": {},
   "cell_type": "markdown",
   "metadata": {},
   "source": [
    "## Menampilkan Hasil Prediksi Klasifikasi Data Test"
   ]
  },
  {
   "cell_type": "code",
   "execution_count": 5,
   "metadata": {},
   "outputs": [
    {
     "name": "stdout",
     "output_type": "stream",
     "text": [
      "     Tanggal  Kategori  Hasil Klasifikasi ELM\n",
      "0 2017-01-08       2.0                      1\n",
      "1 2017-01-09       1.0                      1\n",
      "2 2017-01-10       1.0                      1\n"
     ]
    }
   ],
   "source": [
    "# Melakukan pelatihan model ELM\n",
    "W_test, b_test, mape_test = elm_fit(X_train, y_train, 5)\n",
    "\n",
    "# Menggunakan model ELM untuk melakukan prediksi\n",
    "predict_test = elm_predict(X_test, W_test, b_test, round_output=True)\n",
    "# Membuat DataFrame untuk hasil prediksi\n",
    "result_df = pd.DataFrame({'Tanggal': data['Tanggal'].iloc[X_train.shape[0]:].reset_index(drop=True),\n",
    "                          'Kategori': y_test,\n",
    "                          'Hasil Klasifikasi ELM': predict_test})\n",
    "\n",
    "# Menampilkan tabel hasil prediksi\n",
    "print(result_df)\n"
   ]
  },
  {
   "cell_type": "code",
   "execution_count": 6,
   "metadata": {},
   "outputs": [
    {
     "data": {
      "image/png": "[encoded data removed]",
      "text/plain": [
       "<Figure size 1800x800 with 1 Axes>"
      ]
     },
     "metadata": {},
     "output_type": "display_data"
    }
   ],
   "source": [
    "from sklearn.metrics import confusion_matrix\n",
    "import matplotlib.pyplot as plt\n",
    "import seaborn as sns\n",
    "\n",
    "\n",
    "# Menghitung confusion matrix\n",
    "cm = confusion_matrix(y_test, predict_test)\n",
    "\n",
    "# Membuat plot confusion matrix\n",
    "plt.figure(figsize=(18, 8))\n",
    "sns.heatmap(cm, annot=True, fmt='d', cmap='Blues', cbar=False)\n",
    "plt.title(\"Confusion Matrix\\nKlasifikasi Dataset ISPU Menggunakan Extreme Learning Machine\")\n",
    "plt.xlabel(\"Predicted\")\n",
    "plt.ylabel(\"Actual\")\n",
    "plt.show()"
   ]
  },
  {
   "cell_type": "code",
   "execution_count": 7,
   "metadata": {},
   "outputs": [
    {
     "name": "stdout",
     "output_type": "stream",
     "text": [
      "Accuracy: 0.6666666666666666\n"
     ]
    }
   ],
   "source": [
    "# Menghitung akurasi\n",
    "accuracy = accuracy_score(predict_test, y_test)\n",
    "\n",
    "print('Accuracy:', accuracy)"
   ]
  },
  {
   "attachments": {},
   "cell_type": "markdown",
   "metadata": {},
   "source": [
    "## Menampilkan Hasil Prediksi Klasifikasi Data Train"
   ]
  },
  {
   "cell_type": "code",
   "execution_count": 8,
   "metadata": {},
   "outputs": [
    {
     "name": "stdout",
     "output_type": "stream",
     "text": [
      "     Tanggal  Kategori  Hasil Klasifikasi ELM\n",
      "0 2017-01-01       1.0                      1\n",
      "1 2017-01-02       1.0                      1\n",
      "2 2017-01-03       1.0                      1\n",
      "3 2017-01-04       1.0                      1\n",
      "4 2017-01-05       1.0                      1\n",
      "5 2017-01-06       1.0                      1\n",
      "6 2017-01-07       1.0                      1\n"
     ]
    }
   ],
   "source": [
    "W_train, b_train, mape_train = elm_fit(X_train, y_train, 6)\n",
    "predict_train = elm_predict(X_train, W_train, b_train, round_output=True)\n",
    "result_train_df = pd.DataFrame({'Tanggal': data['Tanggal'].iloc[:X_train.shape[0]].reset_index(drop=True),\n",
    "                                'Kategori': y_train,\n",
    "                                'Hasil Klasifikasi ELM': predict_train})\n",
    "print(result_train_df)\n"
   ]
  },
  {
   "cell_type": "code",
   "execution_count": 9,
   "metadata": {},
   "outputs": [
    {
     "data": {
      "image/png": "[encoded data removed]",
      "text/plain": [
       "<Figure size 1800x800 with 1 Axes>"
      ]
     },
     "metadata": {},
     "output_type": "display_data"
    }
   ],
   "source": [
    "from sklearn.metrics import confusion_matrix\n",
    "import matplotlib.pyplot as plt\n",
    "import seaborn as sns\n",
    "\n",
    "\n",
    "# Menghitung confusion matrix\n",
    "cm = confusion_matrix(y_train, predict_train)\n",
    "\n",
    "# Membuat plot confusion matrix\n",
    "plt.figure(figsize=(18, 8))\n",
    "sns.heatmap(cm, annot=True, fmt='d', cmap='Blues', cbar=False)\n",
    "plt.title(\"Confusion Matrix\\nKlasifikasi Dataset ISPU Menggunakan Extreme Learning Machine\")\n",
    "plt.xlabel(\"Predicted\")\n",
    "plt.ylabel(\"Actual\")\n",
    "plt.show()"
   ]
  },
  {
   "cell_type": "code",
   "execution_count": 10,
   "metadata": {},
   "outputs": [
    {
     "name": "stdout",
     "output_type": "stream",
     "text": [
      "Accuracy: 1.0\n"
     ]
    }
   ],
   "source": [
    "# Menghitung akurasi\n",
    "accuracy = accuracy_score(predict_train, y_train)\n",
    "\n",
    "print('Accuracy:', accuracy)"
   ]
  },
  {
   "attachments": {},
   "cell_type": "markdown",
   "metadata": {},
   "source": [
    "## Menyimpan Hasil Klasifikasi Kedalam Excel"
   ]
  },
  {
   "cell_type": "code",
   "execution_count": 11,
   "metadata": {},
   "outputs": [],
   "source": [
    "result_df.to_excel('D:\\Data\\Kuliah\\TA\\Projek-TA\\DATA\\Classification\\Klasifikasi_DKI1.xlsx', index=False)"
   ]
  },
  {
   "cell_type": "code",
   "execution_count": 12,
   "metadata": {},
   "outputs": [
    {
     "name": "stdout",
     "output_type": "stream",
     "text": [
      "     Tanggal Kategori Hasil Klasifikasi ELM\n",
      "0 2017-01-08   SEDANG                  BAIK\n",
      "1 2017-01-09     BAIK                  BAIK\n",
      "2 2017-01-10     BAIK                  BAIK\n"
     ]
    }
   ],
   "source": [
    "data = pd.read_excel (\"D:\\Data\\Kuliah\\TA\\Projek-TA\\DATA\\Classification\\Klasifikasi_DKI1.xlsx\")\n",
    "\n",
    "# Membuat dictionary untuk pemetaan nilai\n",
    "mapping = {1: 'BAIK', 2: 'SEDANG', 3: ' TIDAK SEHAT', 4: 'SANGAT TIDAK SEHAT', 5: 'BERBAHAYA'}\n",
    "\n",
    "# Mengganti nilai menggunakan replace() dengan dictionary mapping\n",
    "data['Kategori'] = data['Kategori'].replace(mapping)\n",
    "data['Hasil Klasifikasi ELM'] = data['Hasil Klasifikasi ELM'].replace(mapping)\n",
    "# Menampilkan data setelah perubahan\n",
    "print(data)"
   ]
  },
  {
   "cell_type": "code",
   "execution_count": 13,
   "metadata": {},
   "outputs": [
    {
     "data": {
      "text/plain": [
       "\"\\nimport matplotlib.pyplot as plt\\n\\n# Mengurutkan DataFrame berdasarkan tanggal\\nresult_df = result_df.sort_values('Tanggal')\\n\\n# Mengatur posisi x untuk line chart\\nx_pos = range(len(result_df))\\n\\n# Membuat figure dan axes dengan ukuran figur 8x6 inci\\nfig, ax = plt.subplots(figsize=(18, 6))\\n\\n# Menampilkan line chart untuk hasil prediksi\\nax.plot(x_pos, result_df['Hasil Klasifikasi ELM'], label='Hasil Klasifikasi ELM', marker='o')\\nax.plot(x_pos, result_df['Kategori'], label='True', marker='x')\\n\\n# Mengatur label pada sumbu x\\nax.set_xticks(x_pos)\\nax.set_xticklabels(result_df['Tanggal'], rotation=90)\\n\\n# Menampilkan legenda\\nax.legend()\\n\\n# Menampilkan chart\\nplt.show()\\n\""
      ]
     },
     "execution_count": 13,
     "metadata": {},
     "output_type": "execute_result"
    }
   ],
   "source": [
    "'''\n",
    "import matplotlib.pyplot as plt\n",
    "\n",
    "# Mengurutkan DataFrame berdasarkan tanggal\n",
    "result_df = result_df.sort_values('Tanggal')\n",
    "\n",
    "# Mengatur posisi x untuk line chart\n",
    "x_pos = range(len(result_df))\n",
    "\n",
    "# Membuat figure dan axes dengan ukuran figur 8x6 inci\n",
    "fig, ax = plt.subplots(figsize=(18, 6))\n",
    "\n",
    "# Menampilkan line chart untuk hasil prediksi\n",
    "ax.plot(x_pos, result_df['Hasil Klasifikasi ELM'], label='Hasil Klasifikasi ELM', marker='o')\n",
    "ax.plot(x_pos, result_df['Kategori'], label='True', marker='x')\n",
    "\n",
    "# Mengatur label pada sumbu x\n",
    "ax.set_xticks(x_pos)\n",
    "ax.set_xticklabels(result_df['Tanggal'], rotation=90)\n",
    "\n",
    "# Menampilkan legenda\n",
    "ax.legend()\n",
    "\n",
    "# Menampilkan chart\n",
    "plt.show()\n",
    "'''"
   ]
  }
 ],
 "metadata": {
  "kernelspec": {
   "display_name": "Python 3",
   "language": "python",
   "name": "python3"
  },
  "language_info": {
   "codemirror_mode": {
    "name": "ipython",
    "version": 3
   },
   "file_extension": ".py",
   "mimetype": "text/x-python",
   "name": "python",
   "nbconvert_exporter": "python",
   "pygments_lexer": "ipython3",
   "version": "3.11.0"
  },
  "orig_nbformat": 4
 },
 "nbformat": 4,
 "nbformat_minor": 2
}
