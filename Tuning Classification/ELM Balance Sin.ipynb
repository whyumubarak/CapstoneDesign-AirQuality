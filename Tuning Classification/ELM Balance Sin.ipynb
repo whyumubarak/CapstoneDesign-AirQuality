{
 "cells": [
  {
   "cell_type": "code",
   "execution_count": 8,
   "metadata": {},
   "outputs": [],
   "source": [
    "import numpy as np\n",
    "import pandas as pd\n",
    "from sklearn.model_selection import train_test_split\n",
    "from sklearn.preprocessing import StandardScaler\n",
    "\n",
    "# Memuat data train dari file excel menggunakan Pandas\n",
    "df_train = pd.read_excel('D:/Data/Kuliah/TA/Projek-Capstone-Design/DATA/Preprocessing/balance data train 80%.xlsx')\n",
    "\n",
    "# Memuat data test dari file excel menggunakan Pandas\n",
    "df_test = pd.read_excel('D:/Data/Kuliah/TA/Projek-Capstone-Design/DATA/Preprocessing/balance data testing 20%.xlsx')\n",
    "\n",
    "# mengubah kategori menjadi angka\n",
    "category_mapping = {\n",
    "    'baik': 1,\n",
    "    'sedang': 2,\n",
    "    'tidak sehat': 3,\n",
    "    'sangat tidak sehat': 4\n",
    "}\n",
    "\n",
    "# Gunakan fungsi map untuk mengganti kategori dengan nilai numerik yang sesuai\n",
    "df_train['Kategori'] = df_train['Kategori'].map(category_mapping)\n",
    "df_test['Kategori'] = df_test['Kategori'].map(category_mapping)\n",
    "\n",
    "# Bagi data train dan test menjadi fitur (X) dan target (y)\n",
    "X_train = df_train.drop('Kategori', axis=1)\n",
    "y_train = df_train['Kategori']\n",
    "\n",
    "X_test = df_test.drop('Kategori', axis=1)\n",
    "y_test = df_test['Kategori']\n",
    "\n",
    "# Lakukan preprocessing StandardScaler\n",
    "scaler = StandardScaler()\n",
    "X_train_scaled = scaler.fit_transform(X_train)\n",
    "X_test_scaled = scaler.transform(X_test)"
   ]
  },
  {
   "cell_type": "code",
   "execution_count": 9,
   "metadata": {},
   "outputs": [
    {
     "name": "stdout",
     "output_type": "stream",
     "text": [
      "-----------------------------------------------------\n",
      "classifier train accuracy: 0.98375\n",
      "classifier test accuracy: 0.93\n",
      "classifier running time: 0.22636920004151762\n",
      "Akurasi model dengan membuang 15% data: 93.0 %\n",
      "              precision    recall  f1-score   support\n",
      "\n",
      "           1       0.95      0.94      0.94       100\n",
      "           2       0.86      0.91      0.88       100\n",
      "           3       0.96      0.87      0.91       100\n",
      "           4       0.96      1.00      0.98       100\n",
      "\n",
      "    accuracy                           0.93       400\n",
      "   macro avg       0.93      0.93      0.93       400\n",
      "weighted avg       0.93      0.93      0.93       400\n",
      "\n"
     ]
    },
    {
     "data": {
      "image/png": "[encoded data removed]",
      "text/plain": [
       "<Figure size 640x480 with 2 Axes>"
      ]
     },
     "metadata": {},
     "output_type": "display_data"
    }
   ],
   "source": [
    "from numpy.linalg import pinv, inv\n",
    "import time\n",
    "from sklearn.metrics import classification_report, confusion_matrix\n",
    "from sklearn.metrics import ConfusionMatrixDisplay\n",
    "\n",
    "class elm():\n",
    "    def __init__(self, hidden_units, activation_function, x, y, C, elm_type, one_hot=True, random_type='normal'):\n",
    "        self.hidden_units = hidden_units\n",
    "        self.activation_function = activation_function\n",
    "        self.random_type = random_type\n",
    "        self.x = x\n",
    "        self.y = y\n",
    "        self.C = C\n",
    "        self.class_num = np.unique(self.y).shape[0]\n",
    "        self.beta = np.zeros((self.hidden_units, self.class_num))\n",
    "        self.elm_type = elm_type\n",
    "        self.one_hot = one_hot\n",
    "\n",
    "        if elm_type == 'clf' and self.one_hot:\n",
    "            self.one_hot_label = np.zeros((self.y.shape[0], self.class_num + 1))\n",
    "            for i in range(self.y.shape[0]):\n",
    "                self.one_hot_label[i, int(self.y[i])] = 1\n",
    "\n",
    "        if self.random_type == 'uniform':\n",
    "            self.W = np.random.uniform(low=0, high=1, size=(self.hidden_units, self.x.shape[1]))\n",
    "            self.b = np.random.uniform(low=0, high=1, size=(self.hidden_units, 1))\n",
    "        if self.random_type == 'normal':\n",
    "            self.W = np.random.normal(loc=0, scale=0.5, size=(self.hidden_units, self.x.shape[1]))\n",
    "            self.b = np.random.normal(loc=0, scale=0.5, size=(self.hidden_units, 1))\n",
    "\n",
    "    def __input2hidden(self, x):\n",
    "        self.temH = np.dot(self.W, x.T) + self.b\n",
    "\n",
    "        if self.activation_function == 'sigmoid':\n",
    "            self.H = 1 / (1 + np.exp(-self.temH))\n",
    "\n",
    "        if self.activation_function == 'relu':\n",
    "            self.H = self.temH * (self.temH > 0)\n",
    "\n",
    "        if self.activation_function == 'sin':\n",
    "            self.H = np.sin(self.temH)\n",
    "\n",
    "        if self.activation_function == 'tanh':\n",
    "            self.H = (np.exp(self.temH) - np.exp(-self.temH)) / (np.exp(self.temH) + np.exp(-self.temH))\n",
    "\n",
    "        if self.activation_function == 'leaky_relu':\n",
    "            self.H = np.maximum(0, self.temH) + 0.1 * np.minimum(0, self.temH)\n",
    "\n",
    "        return self.H\n",
    "\n",
    "    def __hidden2output(self, H):\n",
    "        self.output = np.dot(H.T, self.beta)\n",
    "        return self.output\n",
    "\n",
    "    def fit(self, algorithm):\n",
    "        self.time1 = time.perf_counter()\n",
    "        self.H = self.__input2hidden(self.x)\n",
    "        if self.elm_type == 'clf':\n",
    "            if self.one_hot:\n",
    "                self.y_temp = self.one_hot_label\n",
    "            else:\n",
    "                self.y_temp = self.y\n",
    "        if self.elm_type == 'reg':\n",
    "            self.y_temp = self.y\n",
    "\n",
    "        if algorithm == 'no_re':\n",
    "            self.beta = np.dot(pinv(self.H.T), self.y_temp)\n",
    "\n",
    "        if algorithm == 'solution1':\n",
    "            self.tmp1 = inv(np.eye(self.H.shape[0]) / self.C + np.dot(self.H, self.H.T))\n",
    "            self.tmp2 = np.dot(self.tmp1, self.H)\n",
    "            self.beta = np.dot(self.tmp2, self.y_temp)\n",
    "\n",
    "        if algorithm == 'solution2':\n",
    "            self.tmp1 = inv(np.eye(self.H.shape[0]) / self.C + np.dot(self.H, self.H.T))\n",
    "            self.tmp2 = np.dot(self.H.T, self.tmp1)\n",
    "            self.beta = np.dot(self.tmp2.T, self.y_temp)\n",
    "        self.time2 = time.perf_counter()\n",
    "\n",
    "        self.result = self.__hidden2output(self.H)\n",
    "\n",
    "        if self.elm_type == 'clf':\n",
    "            self.result = np.exp(self.result) / np.sum(np.exp(self.result), axis=1).reshape(-1, 1)\n",
    "\n",
    "        if self.elm_type == 'clf':\n",
    "            self.y_ = np.where(self.result == np.max(self.result, axis=1).reshape(-1, 1))[1]\n",
    "            self.correct = 0\n",
    "            for i in range(self.y.shape[0]):\n",
    "                if self.y_[i] == self.y[i]:\n",
    "                    self.correct += 1\n",
    "            self.train_score = self.correct / self.y.shape[0]\n",
    "        if self.elm_type == 'reg':\n",
    "            self.train_score = np.sqrt(np.sum((self.result - self.y) * (self.result - self.y)) / self.y.shape[0])\n",
    "        train_time = str(self.time2 - self.time1)\n",
    "        return self.beta, self.train_score, train_time\n",
    "\n",
    "    def predict(self, x):\n",
    "        self.H = self.__input2hidden(x)\n",
    "        self.y_ = self.__hidden2output(self.H)\n",
    "        if self.elm_type == 'clf':\n",
    "            self.y_ = np.where(self.y_ == np.max(self.y_, axis=1).reshape(-1, 1))[1]\n",
    "\n",
    "        return self.y_\n",
    "\n",
    "    def predict_proba(self, x):\n",
    "        self.H = self.__input2hidden(x)\n",
    "        self.y_ = self.__hidden2output(self.H)\n",
    "        if self.elm_type == 'clf':\n",
    "            self.proba = np.exp(self.y_) / np.sum(np.exp(self.y_), axis=1).reshape(-1, 1)\n",
    "        return self.proba\n",
    "\n",
    "    def score(self, x, y):\n",
    "        self.prediction = self.predict(x)\n",
    "        if self.elm_type == 'clf':\n",
    "            self.correct = 0\n",
    "            for i in range(y.shape[0]):\n",
    "                if self.prediction[i] == y[i]:\n",
    "                    self.correct += 1\n",
    "            self.test_score = self.correct / y.shape[0]\n",
    "        if self.elm_type == 'reg':\n",
    "            self.test_score = np.sqrt(np.sum((self.result - self.y) * (self.result - self.y)) / self.y.shape[0])\n",
    "        return self.test_score\n",
    "    \n",
    "import random\n",
    "import numpy as np\n",
    "\n",
    "random.seed(42)\n",
    "np.random.seed(42)\n",
    "\n",
    "model = elm(hidden_units=500, activation_function='sin', C=1000, elm_type='clf', random_type='normal',\n",
    "            x=X_train_scaled, y=y_train.astype(int).values.reshape(-1, 1))# Mengubah dimensi y_train menjadi (n_samples, 1)\n",
    "beta, train_accuracy, running_time = model.fit('solution2')\n",
    "prediction = model.predict(X_test_scaled)\n",
    "\n",
    "print('-----------------------------------------------------')\n",
    "print(\"classifier train accuracy:\", train_accuracy)\n",
    "print('classifier test accuracy:', model.score(X_test_scaled, y_test.values.reshape(-1, 1)))  # Mengubah dimensi y_test menjadi (n_samples, 1)\n",
    "print('classifier running time:', running_time)\n",
    "print('Akurasi model dengan membuang 15% data:', np.round(np.mean(prediction == y_test) * 100, 2), '%')\n",
    "\n",
    "cm = confusion_matrix(y_test, prediction)\n",
    "disp = ConfusionMatrixDisplay(confusion_matrix=cm)\n",
    "disp.plot()\n",
    "\n",
    "from sklearn.metrics import classification_report\n",
    "# Generate classification report\n",
    "report = classification_report(y_test, prediction)\n",
    "print(report)"
   ]
  },
  {
   "cell_type": "code",
   "execution_count": 10,
   "metadata": {},
   "outputs": [
    {
     "name": "stdout",
     "output_type": "stream",
     "text": [
      "Sensitivity: 0.95\n",
      "Specificity: 0.94\n",
      "G-mean: 0.94\n"
     ]
    }
   ],
   "source": [
    "# Hitung True Positive (TP), False Positive (FP), True Negative (TN), dan False Negative (FN) dari confusion matrix\n",
    "TP = cm[1, 1]\n",
    "FP = cm[0, 1]\n",
    "TN = cm[0, 0]\n",
    "FN = cm[1, 0]\n",
    "\n",
    "# Hitung Sensitivity (Recall) dan Specificity\n",
    "sensitivity = TP / (TP + FN)\n",
    "specificity = TN / (TN + FP)\n",
    "\n",
    "# Hitung G-mean\n",
    "g_mean = (sensitivity * specificity) ** 0.5\n",
    "\n",
    "# Hitung Akurasi\n",
    "accuracy = (TP + TN) / (TP + TN + FP + FN)\n",
    "\n",
    "# Cetak hasil\n",
    "print(\"Sensitivity: %.2f\" % sensitivity)\n",
    "print(\"Specificity: %.2f\" % specificity)\n",
    "print(\"G-mean: %.2f\" % g_mean)\n",
    "print('Accuracy: %.2f' % accuracy)"
   ]
  },
  {
   "cell_type": "code",
   "execution_count": 11,
   "metadata": {},
   "outputs": [
    {
     "name": "stdout",
     "output_type": "stream",
     "text": [
      "     Actual  Predict\n",
      "0         3        3\n",
      "1         4        4\n",
      "2         1        1\n",
      "3         2        2\n",
      "4         3        3\n",
      "..      ...      ...\n",
      "395       4        4\n",
      "396       2        2\n",
      "397       4        4\n",
      "398       2        2\n",
      "399       4        4\n",
      "\n",
      "[400 rows x 2 columns]\n"
     ]
    }
   ],
   "source": [
    "result_train_df = pd.DataFrame({'Actual': y_test,\n",
    "                                'Predict': prediction})\n",
    "print(result_train_df)"
   ]
  },
  {
   "cell_type": "code",
   "execution_count": 12,
   "metadata": {},
   "outputs": [
    {
     "name": "stdout",
     "output_type": "stream",
     "text": [
      "-----------------------------------------------------\n",
      "classifier train accuracy (training data): 0.98375\n",
      "Akurasi model pada data pelatihan: 98.38 %\n",
      "Classification Report (training data):\n",
      "              precision    recall  f1-score   support\n",
      "\n",
      "           1       0.97      0.98      0.97       400\n",
      "           2       0.98      0.96      0.97       400\n",
      "           3       0.99      0.99      0.99       400\n",
      "           4       1.00      1.00      1.00       400\n",
      "\n",
      "    accuracy                           0.98      1600\n",
      "   macro avg       0.98      0.98      0.98      1600\n",
      "weighted avg       0.98      0.98      0.98      1600\n",
      "\n"
     ]
    },
    {
     "data": {
      "image/png": "[encoded data removed]",
      "text/plain": [
       "<Figure size 640x480 with 2 Axes>"
      ]
     },
     "metadata": {},
     "output_type": "display_data"
    }
   ],
   "source": [
    "# Prediksi pada data pelatihan\n",
    "train_prediction = model.predict(X_train_scaled)\n",
    "\n",
    "# Akurasi dan laporan klasifikasi untuk data pelatihan\n",
    "train_accuracy = model.score(X_train_scaled, y_train.values.reshape(-1, 1))\n",
    "train_classification_report = classification_report(y_train, train_prediction)\n",
    "\n",
    "# Matriks Konfusi untuk data pelatihan\n",
    "cm_train = confusion_matrix(y_train, train_prediction)\n",
    "\n",
    "# Tampilkan matriks konfusi menggunakan ConfusionMatrixDisplay\n",
    "disp_train = ConfusionMatrixDisplay(confusion_matrix=cm_train)\n",
    "disp_train.plot()\n",
    "\n",
    "# Cetak hasil akurasi dan laporan klasifikasi data pelatihan\n",
    "print('-----------------------------------------------------')\n",
    "print(\"classifier train accuracy (training data):\", train_accuracy)\n",
    "print('Akurasi model pada data pelatihan:', np.round(np.mean(train_prediction == y_train) * 100, 2), '%')\n",
    "print('Classification Report (training data):')\n",
    "print(train_classification_report)\n"
   ]
  },
  {
   "cell_type": "code",
   "execution_count": 13,
   "metadata": {},
   "outputs": [
    {
     "name": "stdout",
     "output_type": "stream",
     "text": [
      "Sensitivity: 0.97\n",
      "Specificity: 0.98\n",
      "G-mean: 0.97\n"
     ]
    }
   ],
   "source": [
    "# Hitung True Positive (TP), False Positive (FP), True Negative (TN), dan False Negative (FN) dari confusion matrix\n",
    "TP = cm_train[1, 1]\n",
    "FP = cm_train[0, 1]\n",
    "TN = cm_train[0, 0]\n",
    "FN = cm_train[1, 0]\n",
    "\n",
    "# Hitung Sensitivity (Recall) dan Specificity\n",
    "sensitivity = TP / (TP + FN)\n",
    "specificity = TN / (TN + FP)\n",
    "\n",
    "# Hitung G-mean\n",
    "g_mean = (sensitivity * specificity) ** 0.5\n",
    "\n",
    "# Hitung Akurasi\n",
    "#accuracy = (TP + TN) / (TP + TN + FP + FN)\n",
    "\n",
    "# Cetak hasil\n",
    "print(\"Sensitivity: %.2f\" % sensitivity)\n",
    "print(\"Specificity: %.2f\" % specificity)\n",
    "print(\"G-mean: %.2f\" % g_mean)\n",
    "#print('Accuracy: %.2f' % accuracy)"
   ]
  },
  {
   "cell_type": "code",
   "execution_count": 14,
   "metadata": {},
   "outputs": [
    {
     "name": "stdout",
     "output_type": "stream",
     "text": [
      "\n"
     ]
    }
   ],
   "source": [
    "print()"
   ]
  }
 ],
 "metadata": {
  "kernelspec": {
   "display_name": "Python 3",
   "language": "python",
   "name": "python3"
  },
  "language_info": {
   "codemirror_mode": {
    "name": "ipython",
    "version": 3
   },
   "file_extension": ".py",
   "mimetype": "text/x-python",
   "name": "python",
   "nbconvert_exporter": "python",
   "pygments_lexer": "ipython3",
   "version": "3.11.0"
  },
  "orig_nbformat": 4
 },
 "nbformat": 4,
 "nbformat_minor": 2
}
