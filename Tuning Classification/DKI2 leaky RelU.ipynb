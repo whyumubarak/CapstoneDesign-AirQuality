{
 "cells": [
  {
   "cell_type": "markdown",
   "metadata": {},
   "source": [
    "# Fungsi aktivasi leaky ReLU"
   ]
  },
  {
   "cell_type": "code",
   "execution_count": 801,
   "metadata": {},
   "outputs": [],
   "source": [
    "import numpy as np\n",
    "\n",
    "def leaky_relu(x, alpha=0.01):\n",
    "    return np.where(x >= 0, x, alpha * x)\n",
    "\n",
    "def elm_fit(X, target, h, W=None, lambda_val=1):\n",
    "    if W is None:\n",
    "        W = np.random.uniform(-.6, .6, (h, len(X[0])))\n",
    "    Hinit = X @ W.T\n",
    "    H = leaky_relu(Hinit)\n",
    "    Ht = H.T\n",
    "    \n",
    "    # Menambahkan regularisasi ridge\n",
    "    I = np.identity(h)\n",
    "    Hp = np.linalg.inv(Ht @ H + lambda_val * I) @ Ht\n",
    "    \n",
    "    beta = Hp @ target\n",
    "    y = H @ beta\n",
    "    mape = sum(abs(y - target) / target) * 100 / len(target)\n",
    "\n",
    "    return W, beta, mape\n",
    "\n",
    "\n",
    "def elm_predict(X, W, b, round_output=False):\n",
    "    Hinit = X @ W.T\n",
    "    H = leaky_relu(Hinit)\n",
    "    y = H @ b\n",
    "\n",
    "    if round_output:\n",
    "        y = [int(round(x)) for x in y]\n",
    "\n",
    "    return y"
   ]
  },
  {
   "cell_type": "markdown",
   "metadata": {},
   "source": [
    "### Memuat Dataset ISPU"
   ]
  },
  {
   "cell_type": "code",
   "execution_count": 802,
   "metadata": {},
   "outputs": [
    {
     "name": "stdout",
     "output_type": "stream",
     "text": [
      "<class 'pandas.core.frame.DataFrame'>\n",
      "RangeIndex: 2191 entries, 0 to 2190\n",
      "Data columns (total 10 columns):\n",
      " #   Column    Non-Null Count  Dtype         \n",
      "---  ------    --------------  -----         \n",
      " 0   Tanggal   2191 non-null   datetime64[ns]\n",
      " 1   Wilayah   2191 non-null   object        \n",
      " 2   PM10      2191 non-null   float64       \n",
      " 3   SO2       2191 non-null   float64       \n",
      " 4   CO        2191 non-null   float64       \n",
      " 5   O3        2191 non-null   float64       \n",
      " 6   NO2       2191 non-null   float64       \n",
      " 7   Max       2191 non-null   float64       \n",
      " 8   Critical  2113 non-null   object        \n",
      " 9   Kategori  2191 non-null   float64       \n",
      "dtypes: datetime64[ns](1), float64(7), object(2)\n",
      "memory usage: 171.3+ KB\n"
     ]
    }
   ],
   "source": [
    "import pandas as pd\n",
    "from sklearn.preprocessing import minmax_scale\n",
    "\n",
    "# Memuat data dari file CSV menggunakan Pandas\n",
    "DKI2 = pd.read_excel(\"D:\\Data\\Kuliah\\TA\\Projek-TA\\DATA\\Classification\\DATA ISPU - classification.xlsx\", sheet_name=\"DKI2\")\n",
    "DKI2['Kategori'] = DKI2['Kategori'].astype(float)\n",
    "DKI2.info()"
   ]
  },
  {
   "cell_type": "markdown",
   "metadata": {},
   "source": [
    "### Memisahkan Fitur (X) dan Target (Y) & Memisahkan Data Menjadi Data Train Dan Data Testing"
   ]
  },
  {
   "cell_type": "code",
   "execution_count": 803,
   "metadata": {},
   "outputs": [
    {
     "name": "stdout",
     "output_type": "stream",
     "text": [
      "Jumlah data pada Train: 1752\n",
      "Jumlah data pada Test: 439\n"
     ]
    }
   ],
   "source": [
    "from sklearn.model_selection import train_test_split\n",
    "from sklearn.metrics import accuracy_score\n",
    "\n",
    "n_rows = 2192\n",
    "\n",
    "# Mengambil kolom yang diperlukan\n",
    "data = DKI2[:n_rows][['Tanggal', 'PM10', 'SO2', 'CO', 'O3', 'NO2', 'Kategori']]\n",
    "#data = DKI1[['Tanggal', 'PM10', 'SO2', 'CO', 'O3', 'NO2', 'Kategori']]\n",
    "# Melakukan normalisasi Min-Max pada fitur\n",
    "data[['PM10', 'SO2', 'CO', 'O3', 'NO2']] = minmax_scale(data[['PM10', 'SO2', 'CO', 'O3', 'NO2']])\n",
    "\n",
    "# Memisahkan fitur (X) dan target (Y)\n",
    "X = data[['PM10', 'SO2', 'CO', 'O3', 'NO2']].values\n",
    "Y = data['Kategori'].values\n",
    "\n",
    "# Memisahkan data menjadi training set dan testing set\n",
    "X_train, X_test, y_train, y_test = train_test_split(X, Y, test_size=.2)\n",
    "\n",
    "#Menampilkan jumlah data Train dan Test\n",
    "print(\"Jumlah data pada Train:\", X_train.shape[0])\n",
    "print(\"Jumlah data pada Test:\", X_test.shape[0])\n"
   ]
  },
  {
   "cell_type": "markdown",
   "metadata": {},
   "source": [
    "### Menampilkan Hasil Prediksi Klasifikasi Data Test"
   ]
  },
  {
   "cell_type": "code",
   "execution_count": 804,
   "metadata": {},
   "outputs": [
    {
     "name": "stdout",
     "output_type": "stream",
     "text": [
      "       Tanggal  Kategori  Hasil Klasifikasi ELM\n",
      "0   2021-10-19       2.0                      2\n",
      "1   2021-10-20       2.0                      2\n",
      "2   2021-10-21       2.0                      2\n",
      "3   2021-10-22       1.0                      1\n",
      "4   2021-10-23       3.0                      3\n",
      "..         ...       ...                    ...\n",
      "434 2022-12-27       2.0                      2\n",
      "435 2022-12-28       2.0                      2\n",
      "436 2022-12-29       2.0                      2\n",
      "437 2022-12-30       2.0                      2\n",
      "438 2022-12-31       1.0                      1\n",
      "\n",
      "[439 rows x 3 columns]\n"
     ]
    }
   ],
   "source": [
    "# Melakukan pelatihan model ELM\n",
    "W_test, b_test, mape_test = elm_fit(X_train, y_train, 20)\n",
    "\n",
    "# Menggunakan model ELM untuk melakukan prediksi\n",
    "predict_test = elm_predict(X_test, W_test, b_test, round_output=True)\n",
    "# Membuat DataFrame untuk hasil prediksi\n",
    "result_df = pd.DataFrame({'Tanggal': data['Tanggal'].iloc[X_train.shape[0]:].reset_index(drop=True),\n",
    "                          'Kategori': y_test,\n",
    "                          'Hasil Klasifikasi ELM': predict_test})\n",
    "\n",
    "# Menampilkan tabel hasil prediksi\n",
    "print(result_df)\n"
   ]
  },
  {
   "cell_type": "markdown",
   "metadata": {},
   "source": [
    "### Menampilkan confusion matrix"
   ]
  },
  {
   "cell_type": "code",
   "execution_count": 805,
   "metadata": {},
   "outputs": [
    {
     "data": {
      "image/png": "[encoded data removed]",
      "text/plain": [
       "<Figure size 1800x800 with 1 Axes>"
      ]
     },
     "metadata": {},
     "output_type": "display_data"
    }
   ],
   "source": [
    "from sklearn.metrics import confusion_matrix\n",
    "import matplotlib.pyplot as plt\n",
    "import seaborn as sns\n",
    "\n",
    "\n",
    "# Menghitung confusion matrix\n",
    "cm = confusion_matrix(y_test, predict_test)\n",
    "\n",
    "# Membuat plot confusion matrix\n",
    "plt.figure(figsize=(18, 8))\n",
    "sns.heatmap(cm, annot=True, fmt='d', cmap='Blues', cbar=False)\n",
    "plt.title(\"Confusion Matrix\\nKlasifikasi Dataset ISPU Menggunakan Extreme Learning Machine\")\n",
    "plt.xlabel(\"Predicted\")\n",
    "plt.ylabel(\"Actual\")\n",
    "plt.show()"
   ]
  },
  {
   "cell_type": "markdown",
   "metadata": {},
   "source": [
    "### Menghitung Sensitivity,Specificity,G-mean,dan Accuracy"
   ]
  },
  {
   "cell_type": "code",
   "execution_count": 806,
   "metadata": {},
   "outputs": [
    {
     "name": "stdout",
     "output_type": "stream",
     "text": [
      "Sensitivity: 0.930\n",
      "Specificity: 0.791\n",
      "G-mean: 0.858\n",
      "Accuracy: 0.836\n"
     ]
    }
   ],
   "source": [
    "# Menghitung True Positive (TP), True Negative (TN), False Positive (FP), False Negative (FN)\n",
    "TP = cm[1, 1]\n",
    "TN = cm[0, 0]\n",
    "FP = cm[0, 1]\n",
    "FN = cm[1, 0]\n",
    "\n",
    "# Menghitung Sensitivity (True Positive Rate, Recall)\n",
    "sensitivity = TP / (TP + FN)\n",
    "\n",
    "# Menghitung Specificity\n",
    "if TN + FP == 0:\n",
    "    specificity = 0.0\n",
    "else:\n",
    "    specificity = TN / (TN + FP)\n",
    "\n",
    "# Menghitung G-mean\n",
    "if sensitivity == 0.0 or specificity == 0.0:\n",
    "    g_mean = 0.0\n",
    "else:\n",
    "    g_mean = np.sqrt(sensitivity * specificity)\n",
    "\n",
    "# Menghitung akurasi\n",
    "accuracy = accuracy_score(predict_test, y_test)\n",
    "\n",
    "print(\"Sensitivity: %.3f\" % sensitivity)\n",
    "print(\"Specificity: %.3f\" % specificity)\n",
    "print(\"G-mean: %.3f\" % g_mean)\n",
    "print('Accuracy: %.3f' % accuracy)"
   ]
  },
  {
   "cell_type": "markdown",
   "metadata": {},
   "source": [
    "### Menampilkan Hasil Prediksi Klasifikasi Data Train"
   ]
  },
  {
   "cell_type": "code",
   "execution_count": 807,
   "metadata": {},
   "outputs": [
    {
     "name": "stdout",
     "output_type": "stream",
     "text": [
      "        Tanggal  Kategori  Hasil Klasifikasi ELM\n",
      "0    2017-01-01       2.0                      2\n",
      "1    2017-01-02       3.0                      3\n",
      "2    2017-01-03       1.0                      1\n",
      "3    2017-01-04       2.0                      2\n",
      "4    2017-01-05       2.0                      2\n",
      "...         ...       ...                    ...\n",
      "1747 2021-10-14       2.0                      2\n",
      "1748 2021-10-15       2.0                      2\n",
      "1749 2021-10-16       2.0                      2\n",
      "1750 2021-10-17       2.0                      2\n",
      "1751 2021-10-18       2.0                      2\n",
      "\n",
      "[1752 rows x 3 columns]\n"
     ]
    }
   ],
   "source": [
    "W_train, b_train, mape_train = elm_fit(X_train, y_train, 20)\n",
    "predict_train = elm_predict(X_train, W_train, b_train, round_output=True)\n",
    "result_train_df = pd.DataFrame({'Tanggal': data['Tanggal'].iloc[:X_train.shape[0]].reset_index(drop=True),\n",
    "                                'Kategori': y_train,\n",
    "                                'Hasil Klasifikasi ELM': predict_train})\n",
    "print(result_train_df)\n"
   ]
  },
  {
   "cell_type": "markdown",
   "metadata": {},
   "source": [
    "### Menampilkan confusion matrix"
   ]
  },
  {
   "cell_type": "code",
   "execution_count": 808,
   "metadata": {},
   "outputs": [
    {
     "data": {
      "image/png": "[encoded data removed]",
      "text/plain": [
       "<Figure size 1800x800 with 1 Axes>"
      ]
     },
     "metadata": {},
     "output_type": "display_data"
    }
   ],
   "source": [
    "from sklearn.metrics import confusion_matrix\n",
    "import matplotlib.pyplot as plt\n",
    "import seaborn as sns\n",
    "\n",
    "\n",
    "# Menghitung confusion matrix\n",
    "cm = confusion_matrix(y_train, predict_train)\n",
    "\n",
    "# Membuat plot confusion matrix\n",
    "plt.figure(figsize=(18, 8))\n",
    "sns.heatmap(cm, annot=True, fmt='d', cmap='Blues', cbar=False)\n",
    "plt.title(\"Confusion Matrix\\nKlasifikasi Dataset ISPU Menggunakan Extreme Learning Machine\")\n",
    "plt.xlabel(\"Predicted\")\n",
    "plt.ylabel(\"Actual\")\n",
    "plt.show()"
   ]
  },
  {
   "cell_type": "markdown",
   "metadata": {},
   "source": [
    "### Menghitung Sensitivity,Specificity,G-mean,dan Accuracy"
   ]
  },
  {
   "cell_type": "code",
   "execution_count": 809,
   "metadata": {},
   "outputs": [
    {
     "name": "stdout",
     "output_type": "stream",
     "text": [
      "Sensitivity: 0.864\n",
      "Specificity: 0.751\n",
      "G-mean: 0.806\n",
      "Accuracy: 0.836\n"
     ]
    }
   ],
   "source": [
    "# Menghitung True Positive (TP), True Negative (TN), False Positive (FP), False Negative (FN)\n",
    "TP = cm[1, 1]\n",
    "TN = cm[0, 0]\n",
    "FP = cm[0, 1]\n",
    "FN = cm[1, 0]\n",
    "\n",
    "# Menghitung Sensitivity (True Positive Rate, Recall)\n",
    "sensitivity = TP / (TP + FN)\n",
    "\n",
    "# Menghitung Specificity\n",
    "if TN + FP == 0:\n",
    "    specificity = 0.0\n",
    "else:\n",
    "    specificity = TN / (TN + FP)\n",
    "\n",
    "# Menghitung G-mean\n",
    "if sensitivity == 0.0 or specificity == 0.0:\n",
    "    g_mean = 0.0\n",
    "else:\n",
    "    g_mean = np.sqrt(sensitivity * specificity)\n",
    "\n",
    "# Menghitung akurasi\n",
    "accuracy = accuracy_score(predict_test, y_test)\n",
    "\n",
    "print(\"Sensitivity: %.3f\" % sensitivity)\n",
    "print(\"Specificity: %.3f\" % specificity)\n",
    "print(\"G-mean: %.3f\" % g_mean)\n",
    "print('Accuracy: %.3f' % accuracy)"
   ]
  },
  {
   "cell_type": "markdown",
   "metadata": {},
   "source": [
    "### Menggabungkan hasil klasifikasi Data Train & Data Test"
   ]
  },
  {
   "cell_type": "code",
   "execution_count": 810,
   "metadata": {},
   "outputs": [
    {
     "name": "stdout",
     "output_type": "stream",
     "text": [
      "        Tanggal  Kategori  Hasil Klasifikasi ELM\n",
      "0    2017-01-01       2.0                      2\n",
      "1    2017-01-02       3.0                      3\n",
      "2    2017-01-03       1.0                      1\n",
      "3    2017-01-04       2.0                      2\n",
      "4    2017-01-05       2.0                      2\n",
      "...         ...       ...                    ...\n",
      "2186 2022-12-27       2.0                      2\n",
      "2187 2022-12-28       2.0                      2\n",
      "2188 2022-12-29       2.0                      2\n",
      "2189 2022-12-30       2.0                      2\n",
      "2190 2022-12-31       1.0                      1\n",
      "\n",
      "[2191 rows x 3 columns]\n"
     ]
    }
   ],
   "source": [
    "# Membuat DataFrame untuk hasil prediksi\n",
    "result_df = pd.DataFrame({'Tanggal': data['Tanggal'].iloc[X_train.shape[0]:].reset_index(drop=True),\n",
    "                          'Kategori': y_test,\n",
    "                          'Hasil Klasifikasi ELM': predict_test})\n",
    "\n",
    "result_train_df = pd.DataFrame({'Tanggal': data['Tanggal'].iloc[:X_train.shape[0]].reset_index(drop=True),\n",
    "                                'Kategori': y_train,\n",
    "                                'Hasil Klasifikasi ELM': predict_train})\n",
    "\n",
    "#\n",
    "combined_df = pd.concat([result_train_df, result_df], ignore_index=True)\n",
    "print(combined_df)"
   ]
  }
 ],
 "metadata": {
  "kernelspec": {
   "display_name": "Python 3",
   "language": "python",
   "name": "python3"
  },
  "language_info": {
   "codemirror_mode": {
    "name": "ipython",
    "version": 3
   },
   "file_extension": ".py",
   "mimetype": "text/x-python",
   "name": "python",
   "nbconvert_exporter": "python",
   "pygments_lexer": "ipython3",
   "version": "3.11.0"
  },
  "orig_nbformat": 4
 },
 "nbformat": 4,
 "nbformat_minor": 2
}
